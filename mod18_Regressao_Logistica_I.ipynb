{
 "cells": [
  {
   "cell_type": "markdown",
   "metadata": {},
   "source": [
    "# Regressão Logística I"
   ]
  },
  {
   "cell_type": "markdown",
   "metadata": {},
   "source": [
    "Índice\n",
    "\n",
    "#### 1. [Análise descritiva](#1)  \n",
    "1.1. [Bivariada](#1.1)  \n",
    "1.2. [Medida de risco do evento](#1.2)  \n",
    "1.3. [Chance de evento](#1.3)  \n",
    "1.4. [Razão de chances (*odds ratio*)](#1.4)  \n",
    "1.5. [Bivariada para variáveis contínuas](#1.5)  \n",
    "\n",
    "#### 2. [Regressão logística](#2)  \n",
    "2.1 [Função logística](#2.1)  \n",
    "2.2 [Regressão logística com uma variável](#2.2)  \n",
    "2.3 [Obtendo os parâmetros](#2.3)  \n",
    "2.4 [Modelo com mais variáveis](#2.4)  \n",
    "2.5 [Qualidade do modelo](#2.5)  "
   ]
  },
  {
   "cell_type": "markdown",
   "metadata": {},
   "source": [
    "## 1. Introdução\n",
    "\n",
    "Antes de rodar a regressão, vamos entender a análise básica sobre o problema, e alguns indicadores que sãomuito úteis para entender variáveis binárias, e vão ser muito úteis para entendermos a regressão logística.\n",
    "\n",
    "Vamos entender a análise primeiramente com base em uma tabela de frequências em uma base já conhecida."
   ]
  },
  {
   "cell_type": "code",
   "execution_count": 5,
   "metadata": {},
   "outputs": [],
   "source": [
    "import pandas as pd\n",
    "import seaborn as sns\n",
    "import numpy as np\n",
    "import matplotlib.pyplot as plt\n",
    "\n",
    "%matplotlib inline"
   ]
  },
  {
   "cell_type": "markdown",
   "metadata": {},
   "source": [
    "### 1.1 Análise bivariada<a name=\"1.1\"></a>\n",
    "[Índice](#topo)  \n",
    "\n",
    "A descritiva básica é baseada na tabela cruzada. Em seguida, vamos levantar alguns indicadores que nos ajudam a resumir e entender essa tabela, e se conectam com o modelo de regressão logística de uma forma muito interessante.\n",
    "\n",
    "Vamos ilustrar com um exemplo, e a fórmula genérica será baseada na tabela abaixo:\n",
    "\n",
    "| perfil | não evento      | evento      | total    |\n",
    "|--------|----------|----------|----------|\n",
    "| **P1** | $a_{11}$ | $a_{12}$ | $a_{1.}$ |\n",
    "| **P2** | $a_{21}$ | $a_{22}$ | $a_{2.}$ |\n",
    "| **Total** | $a_{.1}$ | $a_{.2}$ | $a_{..}$ |"
   ]
  },
  {
   "cell_type": "code",
   "execution_count": 7,
   "metadata": {},
   "outputs": [],
   "source": [
    "titanic = sns.load_dataset('titanic')"
   ]
  },
  {
   "cell_type": "code",
   "execution_count": 8,
   "metadata": {},
   "outputs": [
    {
     "data": {
      "text/html": [
       "<div>\n",
       "<style scoped>\n",
       "    .dataframe tbody tr th:only-of-type {\n",
       "        vertical-align: middle;\n",
       "    }\n",
       "\n",
       "    .dataframe tbody tr th {\n",
       "        vertical-align: top;\n",
       "    }\n",
       "\n",
       "    .dataframe thead th {\n",
       "        text-align: right;\n",
       "    }\n",
       "</style>\n",
       "<table border=\"1\" class=\"dataframe\">\n",
       "  <thead>\n",
       "    <tr style=\"text-align: right;\">\n",
       "      <th>survived</th>\n",
       "      <th>0</th>\n",
       "      <th>1</th>\n",
       "      <th>All</th>\n",
       "    </tr>\n",
       "    <tr>\n",
       "      <th>sex</th>\n",
       "      <th></th>\n",
       "      <th></th>\n",
       "      <th></th>\n",
       "    </tr>\n",
       "  </thead>\n",
       "  <tbody>\n",
       "    <tr>\n",
       "      <th>female</th>\n",
       "      <td>81</td>\n",
       "      <td>233</td>\n",
       "      <td>314</td>\n",
       "    </tr>\n",
       "    <tr>\n",
       "      <th>male</th>\n",
       "      <td>468</td>\n",
       "      <td>109</td>\n",
       "      <td>577</td>\n",
       "    </tr>\n",
       "    <tr>\n",
       "      <th>All</th>\n",
       "      <td>549</td>\n",
       "      <td>342</td>\n",
       "      <td>891</td>\n",
       "    </tr>\n",
       "  </tbody>\n",
       "</table>\n",
       "</div>"
      ],
      "text/plain": [
       "survived    0    1  All\n",
       "sex                    \n",
       "female     81  233  314\n",
       "male      468  109  577\n",
       "All       549  342  891"
      ]
     },
     "execution_count": 8,
     "metadata": {},
     "output_type": "execute_result"
    }
   ],
   "source": [
    "tab = pd.crosstab(titanic['sex'], titanic['survived'], margins= True)\n",
    "tab"
   ]
  },
  {
   "cell_type": "markdown",
   "metadata": {},
   "source": [
    "### 1.2 Medida de risco do evento<a name=\"1.2\"></a>\n",
    "[Índice](#topo)  \n",
    "\n",
    "O *risco* do evento é um sinônimo para a probabilidade de ocorrência de um evento, em geral quando esse evento tem uma conotação negativa (ex: inadimplência, fraude, morte etc).\n",
    "\n",
    "No exemplo da nossa tabela, o \"risco\" sobreviver para passageiros do sexo feminino é:\n",
    "\n",
    "$$P(sobreviver|feminino) = \\dfrac{a_{12}}{a_{1.}} = \\dfrac{233}{314} = 74\\%$$\n",
    "\n",
    "Observe que a probabilidade de **não sobreviver** (chamamos também não evento) pode ser escrita simplesmente como 1-P.\n",
    "\n",
    "**Observação:**\n",
    "\n",
    "- Quanto mais diferentes os riscos entre os perfis, maior o indício de relevância da variável para um modelo de classificação"
   ]
  },
  {
   "cell_type": "code",
   "execution_count": 10,
   "metadata": {},
   "outputs": [
    {
     "data": {
      "text/html": [
       "<div>\n",
       "<style scoped>\n",
       "    .dataframe tbody tr th:only-of-type {\n",
       "        vertical-align: middle;\n",
       "    }\n",
       "\n",
       "    .dataframe tbody tr th {\n",
       "        vertical-align: top;\n",
       "    }\n",
       "\n",
       "    .dataframe thead th {\n",
       "        text-align: right;\n",
       "    }\n",
       "</style>\n",
       "<table border=\"1\" class=\"dataframe\">\n",
       "  <thead>\n",
       "    <tr style=\"text-align: right;\">\n",
       "      <th>survived</th>\n",
       "      <th>0</th>\n",
       "      <th>1</th>\n",
       "      <th>All</th>\n",
       "      <th>probabilidade</th>\n",
       "    </tr>\n",
       "    <tr>\n",
       "      <th>sex</th>\n",
       "      <th></th>\n",
       "      <th></th>\n",
       "      <th></th>\n",
       "      <th></th>\n",
       "    </tr>\n",
       "  </thead>\n",
       "  <tbody>\n",
       "    <tr>\n",
       "      <th>female</th>\n",
       "      <td>81</td>\n",
       "      <td>233</td>\n",
       "      <td>314</td>\n",
       "      <td>0.742038</td>\n",
       "    </tr>\n",
       "    <tr>\n",
       "      <th>male</th>\n",
       "      <td>468</td>\n",
       "      <td>109</td>\n",
       "      <td>577</td>\n",
       "      <td>0.188908</td>\n",
       "    </tr>\n",
       "    <tr>\n",
       "      <th>All</th>\n",
       "      <td>549</td>\n",
       "      <td>342</td>\n",
       "      <td>891</td>\n",
       "      <td>0.383838</td>\n",
       "    </tr>\n",
       "  </tbody>\n",
       "</table>\n",
       "</div>"
      ],
      "text/plain": [
       "survived    0    1  All  probabilidade\n",
       "sex                                   \n",
       "female     81  233  314       0.742038\n",
       "male      468  109  577       0.188908\n",
       "All       549  342  891       0.383838"
      ]
     },
     "execution_count": 10,
     "metadata": {},
     "output_type": "execute_result"
    }
   ],
   "source": [
    "tab['probabilidade'] = tab[1]/tab['All']\n",
    "tab"
   ]
  },
  {
   "cell_type": "markdown",
   "metadata": {},
   "source": [
    "### 1.3 Chance (*Odds*)<a name=\"1.3\"></a>\n",
    "[Índice](#topo)  \n",
    "\n",
    "Chance é uma medida de incerteza assim como probabilidade, mas de uma forma um pouco diferente. A chance de um evento é definida como o número de possibilidades para o evento dividido pelo número de possibilidades para o seu complementar. Por exemplo, a **chance** de tirar **6** em um dado é de **1 / 5** - dizemos **um para cinco**.\n",
    "\n",
    "Na nossa tabela, a chance de **sobrevivência** para passageiros do sexo **feminino** pode ser calculada por:\n",
    "\n",
    "$$Odds(feminino) = \\dfrac{a_{12}}{a_{11}} = \\dfrac{233}{81} = 2.9$$\n",
    "\n",
    "Quando o evento é raro, o risco (ou probabilidade) do evento se aproximam numericamente do *odds*.\n",
    "\n",
    "Vamos calcular na nossa tabela:"
   ]
  },
  {
   "cell_type": "code",
   "execution_count": 12,
   "metadata": {},
   "outputs": [
    {
     "data": {
      "text/html": [
       "<div>\n",
       "<style scoped>\n",
       "    .dataframe tbody tr th:only-of-type {\n",
       "        vertical-align: middle;\n",
       "    }\n",
       "\n",
       "    .dataframe tbody tr th {\n",
       "        vertical-align: top;\n",
       "    }\n",
       "\n",
       "    .dataframe thead th {\n",
       "        text-align: right;\n",
       "    }\n",
       "</style>\n",
       "<table border=\"1\" class=\"dataframe\">\n",
       "  <thead>\n",
       "    <tr style=\"text-align: right;\">\n",
       "      <th>survived</th>\n",
       "      <th>0</th>\n",
       "      <th>1</th>\n",
       "      <th>All</th>\n",
       "      <th>probabilidade</th>\n",
       "      <th>chance</th>\n",
       "    </tr>\n",
       "    <tr>\n",
       "      <th>sex</th>\n",
       "      <th></th>\n",
       "      <th></th>\n",
       "      <th></th>\n",
       "      <th></th>\n",
       "      <th></th>\n",
       "    </tr>\n",
       "  </thead>\n",
       "  <tbody>\n",
       "    <tr>\n",
       "      <th>female</th>\n",
       "      <td>81</td>\n",
       "      <td>233</td>\n",
       "      <td>314</td>\n",
       "      <td>0.742038</td>\n",
       "      <td>2.876543</td>\n",
       "    </tr>\n",
       "    <tr>\n",
       "      <th>male</th>\n",
       "      <td>468</td>\n",
       "      <td>109</td>\n",
       "      <td>577</td>\n",
       "      <td>0.188908</td>\n",
       "      <td>0.232906</td>\n",
       "    </tr>\n",
       "    <tr>\n",
       "      <th>All</th>\n",
       "      <td>549</td>\n",
       "      <td>342</td>\n",
       "      <td>891</td>\n",
       "      <td>0.383838</td>\n",
       "      <td>0.622951</td>\n",
       "    </tr>\n",
       "  </tbody>\n",
       "</table>\n",
       "</div>"
      ],
      "text/plain": [
       "survived    0    1  All  probabilidade    chance\n",
       "sex                                             \n",
       "female     81  233  314       0.742038  2.876543\n",
       "male      468  109  577       0.188908  0.232906\n",
       "All       549  342  891       0.383838  0.622951"
      ]
     },
     "execution_count": 12,
     "metadata": {},
     "output_type": "execute_result"
    }
   ],
   "source": [
    "tab['chance'] = tab[1]/tab[0]\n",
    "tab"
   ]
  },
  {
   "cell_type": "code",
   "execution_count": 13,
   "metadata": {},
   "outputs": [
    {
     "data": {
      "text/plain": [
       "12.478260869565217"
      ]
     },
     "execution_count": 13,
     "metadata": {},
     "output_type": "execute_result"
    }
   ],
   "source": [
    "2.87/0.23"
   ]
  },
  {
   "cell_type": "markdown",
   "metadata": {},
   "source": [
    "### 1.4 Razão de chances (*odds ratio*)<a name=\"1.4\"></a>\n",
    "[Índice](#topo)  \n",
    "\n",
    "A razão de chances é o que o nome diz: uma razão entre chances. Vamos entendê-la:\n",
    "\n",
    "A razão de chances de **sobrevivênciai** de um passageiroo do sexo **feminino** com relação à chance de **sobrevivênciai** de um passageiro doo sexo **masculino** é de ```2,9/0,2 = 12,3```. Significa que uma **mulher** possui ```12.3``` vezes a chance de **sobrevivência** de homem.\n",
    "\n",
    "Lembre-se disso: A razão de chances sempre compara as chances de um evento para dois públicos.\n",
    "\n",
    "Na nossa tabela conceitual a fórmula fica assim:\n",
    "\n",
    "$$ RC(P1/P2) = \\dfrac{\\dfrac{a_{12}}{a_{11}}}{{\\dfrac{a_{22}}{a_{21}}}} = \\dfrac{Odds(P1)}{Odds(P2)}$$"
   ]
  },
  {
   "cell_type": "code",
   "execution_count": 15,
   "metadata": {},
   "outputs": [
    {
     "data": {
      "text/plain": [
       "0.2329059829059829"
      ]
     },
     "execution_count": 15,
     "metadata": {},
     "output_type": "execute_result"
    }
   ],
   "source": [
    "tab.loc['male','chance']"
   ]
  },
  {
   "cell_type": "code",
   "execution_count": 16,
   "metadata": {},
   "outputs": [
    {
     "data": {
      "text/html": [
       "<div>\n",
       "<style scoped>\n",
       "    .dataframe tbody tr th:only-of-type {\n",
       "        vertical-align: middle;\n",
       "    }\n",
       "\n",
       "    .dataframe tbody tr th {\n",
       "        vertical-align: top;\n",
       "    }\n",
       "\n",
       "    .dataframe thead th {\n",
       "        text-align: right;\n",
       "    }\n",
       "</style>\n",
       "<table border=\"1\" class=\"dataframe\">\n",
       "  <thead>\n",
       "    <tr style=\"text-align: right;\">\n",
       "      <th>survived</th>\n",
       "      <th>0</th>\n",
       "      <th>1</th>\n",
       "      <th>All</th>\n",
       "      <th>probabilidade</th>\n",
       "      <th>chance</th>\n",
       "      <th>RC_vs_male</th>\n",
       "    </tr>\n",
       "    <tr>\n",
       "      <th>sex</th>\n",
       "      <th></th>\n",
       "      <th></th>\n",
       "      <th></th>\n",
       "      <th></th>\n",
       "      <th></th>\n",
       "      <th></th>\n",
       "    </tr>\n",
       "  </thead>\n",
       "  <tbody>\n",
       "    <tr>\n",
       "      <th>female</th>\n",
       "      <td>81</td>\n",
       "      <td>233</td>\n",
       "      <td>314</td>\n",
       "      <td>0.742038</td>\n",
       "      <td>2.876543</td>\n",
       "      <td>12.350663</td>\n",
       "    </tr>\n",
       "    <tr>\n",
       "      <th>male</th>\n",
       "      <td>468</td>\n",
       "      <td>109</td>\n",
       "      <td>577</td>\n",
       "      <td>0.188908</td>\n",
       "      <td>0.232906</td>\n",
       "      <td>1.000000</td>\n",
       "    </tr>\n",
       "    <tr>\n",
       "      <th>All</th>\n",
       "      <td>549</td>\n",
       "      <td>342</td>\n",
       "      <td>891</td>\n",
       "      <td>0.383838</td>\n",
       "      <td>0.622951</td>\n",
       "      <td>2.674688</td>\n",
       "    </tr>\n",
       "  </tbody>\n",
       "</table>\n",
       "</div>"
      ],
      "text/plain": [
       "survived    0    1  All  probabilidade    chance  RC_vs_male\n",
       "sex                                                         \n",
       "female     81  233  314       0.742038  2.876543   12.350663\n",
       "male      468  109  577       0.188908  0.232906    1.000000\n",
       "All       549  342  891       0.383838  0.622951    2.674688"
      ]
     },
     "execution_count": 16,
     "metadata": {},
     "output_type": "execute_result"
    }
   ],
   "source": [
    "tab['RC_vs_male'] = tab['chance']/tab.loc['male','chance']\n",
    "tab"
   ]
  },
  {
   "cell_type": "markdown",
   "metadata": {},
   "source": [
    "#### Relação entre chance e probabilidade\n",
    "\n",
    "Repare que a chance que escrevemos como:\n",
    "\n",
    "$$chance = \\dfrac{223}{81}$$\n",
    "\n",
    "Também pode ser escrita assim:\n",
    "\n",
    "$$chance = \\dfrac{223}{81} = \\dfrac{\\dfrac{223}{314}}{\\dfrac{81}{314}} = \\dfrac{P(sobreviver|feminino)}{1-P(sobreviver|feminino)}$$\n",
    "\n",
    "ou, de forma genérica:\n",
    "\n",
    "$$chance = \\dfrac{\\dfrac{a_{12}}{a_{1.}}}{\\dfrac{a_{11}}{a_{1.}}} = \\dfrac{P(sem\\_veículo)}{1-P(sem\\_veículo)}$$\n",
    "\n",
    "A chance pode também ser escrita assim:\n",
    "\n",
    "$$Chance = \\dfrac{P}{1-P} $$\n",
    "\n"
   ]
  },
  {
   "cell_type": "markdown",
   "metadata": {},
   "source": [
    "## 2. Regressão logística<a name=\"2\"></a>\n",
    "[Índice](#topo)  \n",
    "\n",
    "É a técnica estatística mais popular para modelagem preditiva de eventos binários. Assim como a regressão, é um modelo linear - o que significa que é definida por uma equação linear, ou seja uma equação da forma  \n",
    "\n",
    "$g(y)=\\alpha + \\beta_1 x_1 + \\beta_2 x_2 +...+ \\beta_p x_p = \\eta$  \n",
    "\n",
    "Em que $\\alpha, \\beta_1, \\beta_2,... \\beta_p$ são constantes.\n",
    "\n",
    "Portanto, a regressão logística compartilha uma série de características e ferramentas com os modelos de regressão linear, mas com particularidades para a resposta binária."
   ]
  },
  {
   "cell_type": "markdown",
   "metadata": {},
   "source": [
    "### 2.1 Função logística<a name=\"2.1\"></a>\n",
    "[Índice](#topo)  \n",
    "\n",
    "O *logito* é a *função de ligação* que modelamos na regressão logística. É definido como o **logaritmo da chance**, ou ainda:\n",
    "\n",
    "$$logito=log\\left(\\frac{p}{1-p}\\right) $$\n",
    "\n",
    "O que nos dá a seguinte equação:\n",
    "\n",
    "$$log\\left(\\frac{p}{1-p}\\right) = \\alpha + \\beta_1 x_1 + \\beta_2 x_2 +...+ \\beta_p x_p$$\n",
    "\n",
    "- Quando P se aproxima de 0, o logito *vai para* $-\\infty$.  \n",
    "- Quando P se aproxima de 1, o logito *vai para* $+\\infty$.  \n",
    "- Não se define quando P=0 ou quando P=1.\n",
    "\n",
    "Vamos observar isso graficamente:"
   ]
  },
  {
   "cell_type": "code",
   "execution_count": 20,
   "metadata": {},
   "outputs": [
    {
     "data": {
      "text/plain": [
       "0      0.001000\n",
       "1      0.001999\n",
       "2      0.002998\n",
       "3      0.003997\n",
       "4      0.004996\n",
       "         ...   \n",
       "995    0.995004\n",
       "996    0.996003\n",
       "997    0.997002\n",
       "998    0.998001\n",
       "999    0.999000\n",
       "Length: 1000, dtype: float64"
      ]
     },
     "execution_count": 20,
     "metadata": {},
     "output_type": "execute_result"
    }
   ],
   "source": [
    "P = pd.Series(np.linspace(0.001,.999,1000))\n",
    "P"
   ]
  },
  {
   "cell_type": "code",
   "execution_count": 21,
   "metadata": {},
   "outputs": [],
   "source": [
    "logito = np.log(P/(1-P))\n",
    "\n",
    "plt.plot(P, logito, 'r');"
   ]
  },
  {
   "cell_type": "markdown",
   "metadata": {},
   "source": [
    "#### Transformação inversa do logito\n",
    "\n",
    "O nosso modelo linear vai nos fornecer uma estimativa do logito para cada perfil de interesse. Podemos *voltar* na probabilidade com a função inversa do logito. Com um pouco de álgebra, chegamos nessa equação aqui:\n",
    "\n",
    "\n",
    "$$\n",
    "    p = \\frac{1}{\\left(1+e^{-\\eta}\\right)}\n",
    "$$\n"
   ]
  },
  {
   "cell_type": "code",
   "execution_count": 23,
   "metadata": {},
   "outputs": [
    {
     "data": {
      "text/plain": [
       "[<matplotlib.lines.Line2D at 0x130dea2a4d0>]"
      ]
     },
     "execution_count": 23,
     "metadata": {},
     "output_type": "execute_result"
    }
   ],
   "source": [
    "plt.plot(logito, P, 'r')"
   ]
  },
  {
   "cell_type": "markdown",
   "metadata": {},
   "source": [
    "### 2.2 Regressão logística com uma variável <a name=\"2.2\"></a>\n",
    "[Índice](#topo)  \n",
    "\n",
    "A nossa regressão, como já falamos, é um modelo linear sobre uma função da probabilidade - essa função é o logito. Com uma variável, a equação da regressão logística que dá a probabilidade $P_i$ de default para cada cliente i=1, 2, ...N é:\n",
    "\n",
    "$$ log\\left(\\dfrac{P_i}{\\left(1-P_i\\right)}\\right) = \\alpha + \\beta x_i $$\n",
    "\n",
    "Repare que se quisermos a chance para cada perfil, basta aplicar a função exponencial dos dois lados:\n",
    "\n",
    "$$ \\dfrac{P_i}{\\left(1-P_i\\right)} = e^{\\alpha + \\beta x_i} $$\n",
    "\n",
    "Se quisermos as probabilidades, basta isolar o P na equação e obter:\n",
    "\n",
    "$$ P_i = \\dfrac{1}{1 + e^{- (\\alpha + \\beta x_i)}} $$\n",
    "\n",
    "\n",
    "\n",
    "Vamos explorar a regressão logística com a variável do exemplo anterior para entender a equação.\n"
   ]
  },
  {
   "cell_type": "code",
   "execution_count": 25,
   "metadata": {
    "tags": []
   },
   "outputs": [
    {
     "name": "stdout",
     "output_type": "stream",
     "text": [
      "Optimization terminated successfully.\n",
      "         Current function value: 0.515041\n",
      "         Iterations 5\n"
     ]
    },
    {
     "data": {
      "text/html": [
       "<table class=\"simpletable\">\n",
       "<caption>Logit Regression Results</caption>\n",
       "<tr>\n",
       "  <th>Dep. Variable:</th>       <td>survived</td>     <th>  No. Observations:  </th>  <td>   891</td>  \n",
       "</tr>\n",
       "<tr>\n",
       "  <th>Model:</th>                 <td>Logit</td>      <th>  Df Residuals:      </th>  <td>   889</td>  \n",
       "</tr>\n",
       "<tr>\n",
       "  <th>Method:</th>                 <td>MLE</td>       <th>  Df Model:          </th>  <td>     1</td>  \n",
       "</tr>\n",
       "<tr>\n",
       "  <th>Date:</th>            <td>Sat, 06 Jul 2024</td> <th>  Pseudo R-squ.:     </th>  <td>0.2266</td>  \n",
       "</tr>\n",
       "<tr>\n",
       "  <th>Time:</th>                <td>19:27:14</td>     <th>  Log-Likelihood:    </th> <td> -458.90</td> \n",
       "</tr>\n",
       "<tr>\n",
       "  <th>converged:</th>             <td>True</td>       <th>  LL-Null:           </th> <td> -593.33</td> \n",
       "</tr>\n",
       "<tr>\n",
       "  <th>Covariance Type:</th>     <td>nonrobust</td>    <th>  LLR p-value:       </th> <td>2.020e-60</td>\n",
       "</tr>\n",
       "</table>\n",
       "<table class=\"simpletable\">\n",
       "<tr>\n",
       "       <td></td>          <th>coef</th>     <th>std err</th>      <th>z</th>      <th>P>|z|</th>  <th>[0.025</th>    <th>0.975]</th>  \n",
       "</tr>\n",
       "<tr>\n",
       "  <th>Intercept</th>   <td>    1.0566</td> <td>    0.129</td> <td>    8.191</td> <td> 0.000</td> <td>    0.804</td> <td>    1.309</td>\n",
       "</tr>\n",
       "<tr>\n",
       "  <th>sex[T.male]</th> <td>   -2.5137</td> <td>    0.167</td> <td>  -15.036</td> <td> 0.000</td> <td>   -2.841</td> <td>   -2.186</td>\n",
       "</tr>\n",
       "</table>"
      ],
      "text/latex": [
       "\\begin{center}\n",
       "\\begin{tabular}{lclc}\n",
       "\\toprule\n",
       "\\textbf{Dep. Variable:}   &     survived     & \\textbf{  No. Observations:  } &      891    \\\\\n",
       "\\textbf{Model:}           &      Logit       & \\textbf{  Df Residuals:      } &      889    \\\\\n",
       "\\textbf{Method:}          &       MLE        & \\textbf{  Df Model:          } &        1    \\\\\n",
       "\\textbf{Date:}            & Sat, 06 Jul 2024 & \\textbf{  Pseudo R-squ.:     } &   0.2266    \\\\\n",
       "\\textbf{Time:}            &     19:27:14     & \\textbf{  Log-Likelihood:    } &   -458.90   \\\\\n",
       "\\textbf{converged:}       &       True       & \\textbf{  LL-Null:           } &   -593.33   \\\\\n",
       "\\textbf{Covariance Type:} &    nonrobust     & \\textbf{  LLR p-value:       } & 2.020e-60   \\\\\n",
       "\\bottomrule\n",
       "\\end{tabular}\n",
       "\\begin{tabular}{lcccccc}\n",
       "                     & \\textbf{coef} & \\textbf{std err} & \\textbf{z} & \\textbf{P$> |$z$|$} & \\textbf{[0.025} & \\textbf{0.975]}  \\\\\n",
       "\\midrule\n",
       "\\textbf{Intercept}   &       1.0566  &        0.129     &     8.191  &         0.000        &        0.804    &        1.309     \\\\\n",
       "\\textbf{sex[T.male]} &      -2.5137  &        0.167     &   -15.036  &         0.000        &       -2.841    &       -2.186     \\\\\n",
       "\\bottomrule\n",
       "\\end{tabular}\n",
       "%\\caption{Logit Regression Results}\n",
       "\\end{center}"
      ],
      "text/plain": [
       "<class 'statsmodels.iolib.summary.Summary'>\n",
       "\"\"\"\n",
       "                           Logit Regression Results                           \n",
       "==============================================================================\n",
       "Dep. Variable:               survived   No. Observations:                  891\n",
       "Model:                          Logit   Df Residuals:                      889\n",
       "Method:                           MLE   Df Model:                            1\n",
       "Date:                Sat, 06 Jul 2024   Pseudo R-squ.:                  0.2266\n",
       "Time:                        19:27:14   Log-Likelihood:                -458.90\n",
       "converged:                       True   LL-Null:                       -593.33\n",
       "Covariance Type:            nonrobust   LLR p-value:                 2.020e-60\n",
       "===============================================================================\n",
       "                  coef    std err          z      P>|z|      [0.025      0.975]\n",
       "-------------------------------------------------------------------------------\n",
       "Intercept       1.0566      0.129      8.191      0.000       0.804       1.309\n",
       "sex[T.male]    -2.5137      0.167    -15.036      0.000      -2.841      -2.186\n",
       "===============================================================================\n",
       "\"\"\""
      ]
     },
     "execution_count": 25,
     "metadata": {},
     "output_type": "execute_result"
    }
   ],
   "source": [
    "import statsmodels.formula.api as smf\n",
    "\n",
    "reglog = smf.logit(\"survived ~ sex\",data=titanic).fit()\n",
    "reglog.summary()"
   ]
  },
  {
   "cell_type": "markdown",
   "metadata": {
    "tags": []
   },
   "source": [
    "### 2.3 Obtendo as probabilidades estimadas<a name=\"2.3\"></a>\n",
    "[Índice](#topo)  \n",
    "\n",
    "Além dos atributos que mencionamos e exploramos anteriormente, o objeto que armazena a regressão logística possui diversos métodos que fazem operações importantes como a aplicação da regra do modelo a uma base de dados. Essa base, no entanto, deve ter as mesmas variáveis nos mesmos nomes e formatos daquelas utilizadas na construção do modelo.\n",
    "\n",
    "Assim, podemos calcular as probabilidades de evento para cada perfil \"na mão\" ou utilizando o método ```.predict()```.\n"
   ]
  },
  {
   "cell_type": "code",
   "execution_count": 27,
   "metadata": {},
   "outputs": [
    {
     "name": "stderr",
     "output_type": "stream",
     "text": [
      "C:\\Users\\Hanga\\AppData\\Local\\Temp\\ipykernel_29256\\1638984751.py:1: FutureWarning: Series.__getitem__ treating keys as positions is deprecated. In a future version, integer keys will always be treated as labels (consistent with DataFrame behavior). To access a value by position, use `ser.iloc[pos]`\n",
      "  reglog.params[1]\n"
     ]
    },
    {
     "data": {
      "text/plain": [
       "-2.5137097125817633"
      ]
     },
     "execution_count": 27,
     "metadata": {},
     "output_type": "execute_result"
    }
   ],
   "source": [
    "reglog.params[1]"
   ]
  },
  {
   "cell_type": "code",
   "execution_count": 28,
   "metadata": {},
   "outputs": [
    {
     "name": "stderr",
     "output_type": "stream",
     "text": [
      "C:\\Users\\Hanga\\AppData\\Local\\Temp\\ipykernel_29256\\2768061096.py:1: FutureWarning: Series.__getitem__ treating keys as positions is deprecated. In a future version, integer keys will always be treated as labels (consistent with DataFrame behavior). To access a value by position, use `ser.iloc[pos]`\n",
      "  eta = reglog.params[0] + reglog.params[1]\n"
     ]
    },
    {
     "data": {
      "text/plain": [
       "-1.4571204136885025"
      ]
     },
     "execution_count": 28,
     "metadata": {},
     "output_type": "execute_result"
    }
   ],
   "source": [
    "eta = reglog.params[0] + reglog.params[1]\n",
    "eta"
   ]
  },
  {
   "cell_type": "code",
   "execution_count": 29,
   "metadata": {},
   "outputs": [
    {
     "data": {
      "text/plain": [
       "0.23290598290598302"
      ]
     },
     "execution_count": 29,
     "metadata": {},
     "output_type": "execute_result"
    }
   ],
   "source": [
    "chance = np.exp(eta)\n",
    "chance"
   ]
  },
  {
   "cell_type": "code",
   "execution_count": 30,
   "metadata": {},
   "outputs": [
    {
     "data": {
      "text/plain": [
       "0.18890814558058933"
      ]
     },
     "execution_count": 30,
     "metadata": {},
     "output_type": "execute_result"
    }
   ],
   "source": [
    "p = 1/(1 + np.exp(-eta))\n",
    "p"
   ]
  },
  {
   "cell_type": "markdown",
   "metadata": {},
   "source": [
    "#### Escorando a base com .predict()"
   ]
  },
  {
   "cell_type": "code",
   "execution_count": 32,
   "metadata": {
    "scrolled": true
   },
   "outputs": [
    {
     "data": {
      "text/html": [
       "<div>\n",
       "<style scoped>\n",
       "    .dataframe tbody tr th:only-of-type {\n",
       "        vertical-align: middle;\n",
       "    }\n",
       "\n",
       "    .dataframe tbody tr th {\n",
       "        vertical-align: top;\n",
       "    }\n",
       "\n",
       "    .dataframe thead th {\n",
       "        text-align: right;\n",
       "    }\n",
       "</style>\n",
       "<table border=\"1\" class=\"dataframe\">\n",
       "  <thead>\n",
       "    <tr style=\"text-align: right;\">\n",
       "      <th></th>\n",
       "      <th>survived</th>\n",
       "      <th>pclass</th>\n",
       "      <th>sex</th>\n",
       "      <th>age</th>\n",
       "      <th>sibsp</th>\n",
       "      <th>parch</th>\n",
       "      <th>fare</th>\n",
       "      <th>embarked</th>\n",
       "      <th>class</th>\n",
       "      <th>who</th>\n",
       "      <th>adult_male</th>\n",
       "      <th>deck</th>\n",
       "      <th>embark_town</th>\n",
       "      <th>alive</th>\n",
       "      <th>alone</th>\n",
       "      <th>predito</th>\n",
       "    </tr>\n",
       "  </thead>\n",
       "  <tbody>\n",
       "    <tr>\n",
       "      <th>0</th>\n",
       "      <td>0</td>\n",
       "      <td>3</td>\n",
       "      <td>male</td>\n",
       "      <td>22.0</td>\n",
       "      <td>1</td>\n",
       "      <td>0</td>\n",
       "      <td>7.2500</td>\n",
       "      <td>S</td>\n",
       "      <td>Third</td>\n",
       "      <td>man</td>\n",
       "      <td>True</td>\n",
       "      <td>NaN</td>\n",
       "      <td>Southampton</td>\n",
       "      <td>no</td>\n",
       "      <td>False</td>\n",
       "      <td>0.188908</td>\n",
       "    </tr>\n",
       "    <tr>\n",
       "      <th>1</th>\n",
       "      <td>1</td>\n",
       "      <td>1</td>\n",
       "      <td>female</td>\n",
       "      <td>38.0</td>\n",
       "      <td>1</td>\n",
       "      <td>0</td>\n",
       "      <td>71.2833</td>\n",
       "      <td>C</td>\n",
       "      <td>First</td>\n",
       "      <td>woman</td>\n",
       "      <td>False</td>\n",
       "      <td>C</td>\n",
       "      <td>Cherbourg</td>\n",
       "      <td>yes</td>\n",
       "      <td>False</td>\n",
       "      <td>0.742038</td>\n",
       "    </tr>\n",
       "    <tr>\n",
       "      <th>2</th>\n",
       "      <td>1</td>\n",
       "      <td>3</td>\n",
       "      <td>female</td>\n",
       "      <td>26.0</td>\n",
       "      <td>0</td>\n",
       "      <td>0</td>\n",
       "      <td>7.9250</td>\n",
       "      <td>S</td>\n",
       "      <td>Third</td>\n",
       "      <td>woman</td>\n",
       "      <td>False</td>\n",
       "      <td>NaN</td>\n",
       "      <td>Southampton</td>\n",
       "      <td>yes</td>\n",
       "      <td>True</td>\n",
       "      <td>0.742038</td>\n",
       "    </tr>\n",
       "    <tr>\n",
       "      <th>3</th>\n",
       "      <td>1</td>\n",
       "      <td>1</td>\n",
       "      <td>female</td>\n",
       "      <td>35.0</td>\n",
       "      <td>1</td>\n",
       "      <td>0</td>\n",
       "      <td>53.1000</td>\n",
       "      <td>S</td>\n",
       "      <td>First</td>\n",
       "      <td>woman</td>\n",
       "      <td>False</td>\n",
       "      <td>C</td>\n",
       "      <td>Southampton</td>\n",
       "      <td>yes</td>\n",
       "      <td>False</td>\n",
       "      <td>0.742038</td>\n",
       "    </tr>\n",
       "    <tr>\n",
       "      <th>4</th>\n",
       "      <td>0</td>\n",
       "      <td>3</td>\n",
       "      <td>male</td>\n",
       "      <td>35.0</td>\n",
       "      <td>0</td>\n",
       "      <td>0</td>\n",
       "      <td>8.0500</td>\n",
       "      <td>S</td>\n",
       "      <td>Third</td>\n",
       "      <td>man</td>\n",
       "      <td>True</td>\n",
       "      <td>NaN</td>\n",
       "      <td>Southampton</td>\n",
       "      <td>no</td>\n",
       "      <td>True</td>\n",
       "      <td>0.188908</td>\n",
       "    </tr>\n",
       "    <tr>\n",
       "      <th>...</th>\n",
       "      <td>...</td>\n",
       "      <td>...</td>\n",
       "      <td>...</td>\n",
       "      <td>...</td>\n",
       "      <td>...</td>\n",
       "      <td>...</td>\n",
       "      <td>...</td>\n",
       "      <td>...</td>\n",
       "      <td>...</td>\n",
       "      <td>...</td>\n",
       "      <td>...</td>\n",
       "      <td>...</td>\n",
       "      <td>...</td>\n",
       "      <td>...</td>\n",
       "      <td>...</td>\n",
       "      <td>...</td>\n",
       "    </tr>\n",
       "    <tr>\n",
       "      <th>886</th>\n",
       "      <td>0</td>\n",
       "      <td>2</td>\n",
       "      <td>male</td>\n",
       "      <td>27.0</td>\n",
       "      <td>0</td>\n",
       "      <td>0</td>\n",
       "      <td>13.0000</td>\n",
       "      <td>S</td>\n",
       "      <td>Second</td>\n",
       "      <td>man</td>\n",
       "      <td>True</td>\n",
       "      <td>NaN</td>\n",
       "      <td>Southampton</td>\n",
       "      <td>no</td>\n",
       "      <td>True</td>\n",
       "      <td>0.188908</td>\n",
       "    </tr>\n",
       "    <tr>\n",
       "      <th>887</th>\n",
       "      <td>1</td>\n",
       "      <td>1</td>\n",
       "      <td>female</td>\n",
       "      <td>19.0</td>\n",
       "      <td>0</td>\n",
       "      <td>0</td>\n",
       "      <td>30.0000</td>\n",
       "      <td>S</td>\n",
       "      <td>First</td>\n",
       "      <td>woman</td>\n",
       "      <td>False</td>\n",
       "      <td>B</td>\n",
       "      <td>Southampton</td>\n",
       "      <td>yes</td>\n",
       "      <td>True</td>\n",
       "      <td>0.742038</td>\n",
       "    </tr>\n",
       "    <tr>\n",
       "      <th>888</th>\n",
       "      <td>0</td>\n",
       "      <td>3</td>\n",
       "      <td>female</td>\n",
       "      <td>NaN</td>\n",
       "      <td>1</td>\n",
       "      <td>2</td>\n",
       "      <td>23.4500</td>\n",
       "      <td>S</td>\n",
       "      <td>Third</td>\n",
       "      <td>woman</td>\n",
       "      <td>False</td>\n",
       "      <td>NaN</td>\n",
       "      <td>Southampton</td>\n",
       "      <td>no</td>\n",
       "      <td>False</td>\n",
       "      <td>0.742038</td>\n",
       "    </tr>\n",
       "    <tr>\n",
       "      <th>889</th>\n",
       "      <td>1</td>\n",
       "      <td>1</td>\n",
       "      <td>male</td>\n",
       "      <td>26.0</td>\n",
       "      <td>0</td>\n",
       "      <td>0</td>\n",
       "      <td>30.0000</td>\n",
       "      <td>C</td>\n",
       "      <td>First</td>\n",
       "      <td>man</td>\n",
       "      <td>True</td>\n",
       "      <td>C</td>\n",
       "      <td>Cherbourg</td>\n",
       "      <td>yes</td>\n",
       "      <td>True</td>\n",
       "      <td>0.188908</td>\n",
       "    </tr>\n",
       "    <tr>\n",
       "      <th>890</th>\n",
       "      <td>0</td>\n",
       "      <td>3</td>\n",
       "      <td>male</td>\n",
       "      <td>32.0</td>\n",
       "      <td>0</td>\n",
       "      <td>0</td>\n",
       "      <td>7.7500</td>\n",
       "      <td>Q</td>\n",
       "      <td>Third</td>\n",
       "      <td>man</td>\n",
       "      <td>True</td>\n",
       "      <td>NaN</td>\n",
       "      <td>Queenstown</td>\n",
       "      <td>no</td>\n",
       "      <td>True</td>\n",
       "      <td>0.188908</td>\n",
       "    </tr>\n",
       "  </tbody>\n",
       "</table>\n",
       "<p>891 rows × 16 columns</p>\n",
       "</div>"
      ],
      "text/plain": [
       "     survived  pclass     sex   age  sibsp  parch     fare embarked   class  \\\n",
       "0           0       3    male  22.0      1      0   7.2500        S   Third   \n",
       "1           1       1  female  38.0      1      0  71.2833        C   First   \n",
       "2           1       3  female  26.0      0      0   7.9250        S   Third   \n",
       "3           1       1  female  35.0      1      0  53.1000        S   First   \n",
       "4           0       3    male  35.0      0      0   8.0500        S   Third   \n",
       "..        ...     ...     ...   ...    ...    ...      ...      ...     ...   \n",
       "886         0       2    male  27.0      0      0  13.0000        S  Second   \n",
       "887         1       1  female  19.0      0      0  30.0000        S   First   \n",
       "888         0       3  female   NaN      1      2  23.4500        S   Third   \n",
       "889         1       1    male  26.0      0      0  30.0000        C   First   \n",
       "890         0       3    male  32.0      0      0   7.7500        Q   Third   \n",
       "\n",
       "       who  adult_male deck  embark_town alive  alone   predito  \n",
       "0      man        True  NaN  Southampton    no  False  0.188908  \n",
       "1    woman       False    C    Cherbourg   yes  False  0.742038  \n",
       "2    woman       False  NaN  Southampton   yes   True  0.742038  \n",
       "3    woman       False    C  Southampton   yes  False  0.742038  \n",
       "4      man        True  NaN  Southampton    no   True  0.188908  \n",
       "..     ...         ...  ...          ...   ...    ...       ...  \n",
       "886    man        True  NaN  Southampton    no   True  0.188908  \n",
       "887  woman       False    B  Southampton   yes   True  0.742038  \n",
       "888  woman       False  NaN  Southampton    no  False  0.742038  \n",
       "889    man        True    C    Cherbourg   yes   True  0.188908  \n",
       "890    man        True  NaN   Queenstown    no   True  0.188908  \n",
       "\n",
       "[891 rows x 16 columns]"
      ]
     },
     "execution_count": 32,
     "metadata": {},
     "output_type": "execute_result"
    }
   ],
   "source": [
    "titanic['predito'] = reglog.predict(titanic)\n",
    "\n",
    "titanic"
   ]
  },
  {
   "cell_type": "markdown",
   "metadata": {},
   "source": [
    "### 2.4 Modelo com mais variáveis<a name=\"2.4\"></a>\n",
    "[Índice](#topo)  \n",
    "\n",
    "Vamos rodar um modelo mais completo nessa base. A estrutura é essencialmente a mesma, mas com mais variáveis.\n",
    "\n",
    "$$ log\\left(\\dfrac{P_i}{1-P_i}\\right) = \\alpha + \\beta_1 x_{i1}  + \\beta_2 x_{i2} + ... + \\beta_p x_{ip}$$"
   ]
  },
  {
   "cell_type": "code",
   "execution_count": 34,
   "metadata": {},
   "outputs": [
    {
     "data": {
      "text/html": [
       "<div>\n",
       "<style scoped>\n",
       "    .dataframe tbody tr th:only-of-type {\n",
       "        vertical-align: middle;\n",
       "    }\n",
       "\n",
       "    .dataframe tbody tr th {\n",
       "        vertical-align: top;\n",
       "    }\n",
       "\n",
       "    .dataframe thead th {\n",
       "        text-align: right;\n",
       "    }\n",
       "</style>\n",
       "<table border=\"1\" class=\"dataframe\">\n",
       "  <thead>\n",
       "    <tr style=\"text-align: right;\">\n",
       "      <th></th>\n",
       "      <th>survived</th>\n",
       "      <th>pclass</th>\n",
       "      <th>sex</th>\n",
       "      <th>age</th>\n",
       "      <th>sibsp</th>\n",
       "      <th>parch</th>\n",
       "      <th>fare</th>\n",
       "      <th>embarked</th>\n",
       "      <th>class</th>\n",
       "      <th>who</th>\n",
       "      <th>adult_male</th>\n",
       "      <th>deck</th>\n",
       "      <th>embark_town</th>\n",
       "      <th>alive</th>\n",
       "      <th>alone</th>\n",
       "      <th>predito</th>\n",
       "    </tr>\n",
       "  </thead>\n",
       "  <tbody>\n",
       "    <tr>\n",
       "      <th>0</th>\n",
       "      <td>0</td>\n",
       "      <td>3</td>\n",
       "      <td>male</td>\n",
       "      <td>22.0</td>\n",
       "      <td>1</td>\n",
       "      <td>0</td>\n",
       "      <td>7.2500</td>\n",
       "      <td>S</td>\n",
       "      <td>Third</td>\n",
       "      <td>man</td>\n",
       "      <td>True</td>\n",
       "      <td>NaN</td>\n",
       "      <td>Southampton</td>\n",
       "      <td>no</td>\n",
       "      <td>False</td>\n",
       "      <td>0.188908</td>\n",
       "    </tr>\n",
       "    <tr>\n",
       "      <th>1</th>\n",
       "      <td>1</td>\n",
       "      <td>1</td>\n",
       "      <td>female</td>\n",
       "      <td>38.0</td>\n",
       "      <td>1</td>\n",
       "      <td>0</td>\n",
       "      <td>71.2833</td>\n",
       "      <td>C</td>\n",
       "      <td>First</td>\n",
       "      <td>woman</td>\n",
       "      <td>False</td>\n",
       "      <td>C</td>\n",
       "      <td>Cherbourg</td>\n",
       "      <td>yes</td>\n",
       "      <td>False</td>\n",
       "      <td>0.742038</td>\n",
       "    </tr>\n",
       "    <tr>\n",
       "      <th>2</th>\n",
       "      <td>1</td>\n",
       "      <td>3</td>\n",
       "      <td>female</td>\n",
       "      <td>26.0</td>\n",
       "      <td>0</td>\n",
       "      <td>0</td>\n",
       "      <td>7.9250</td>\n",
       "      <td>S</td>\n",
       "      <td>Third</td>\n",
       "      <td>woman</td>\n",
       "      <td>False</td>\n",
       "      <td>NaN</td>\n",
       "      <td>Southampton</td>\n",
       "      <td>yes</td>\n",
       "      <td>True</td>\n",
       "      <td>0.742038</td>\n",
       "    </tr>\n",
       "    <tr>\n",
       "      <th>3</th>\n",
       "      <td>1</td>\n",
       "      <td>1</td>\n",
       "      <td>female</td>\n",
       "      <td>35.0</td>\n",
       "      <td>1</td>\n",
       "      <td>0</td>\n",
       "      <td>53.1000</td>\n",
       "      <td>S</td>\n",
       "      <td>First</td>\n",
       "      <td>woman</td>\n",
       "      <td>False</td>\n",
       "      <td>C</td>\n",
       "      <td>Southampton</td>\n",
       "      <td>yes</td>\n",
       "      <td>False</td>\n",
       "      <td>0.742038</td>\n",
       "    </tr>\n",
       "    <tr>\n",
       "      <th>4</th>\n",
       "      <td>0</td>\n",
       "      <td>3</td>\n",
       "      <td>male</td>\n",
       "      <td>35.0</td>\n",
       "      <td>0</td>\n",
       "      <td>0</td>\n",
       "      <td>8.0500</td>\n",
       "      <td>S</td>\n",
       "      <td>Third</td>\n",
       "      <td>man</td>\n",
       "      <td>True</td>\n",
       "      <td>NaN</td>\n",
       "      <td>Southampton</td>\n",
       "      <td>no</td>\n",
       "      <td>True</td>\n",
       "      <td>0.188908</td>\n",
       "    </tr>\n",
       "  </tbody>\n",
       "</table>\n",
       "</div>"
      ],
      "text/plain": [
       "   survived  pclass     sex   age  sibsp  parch     fare embarked  class  \\\n",
       "0         0       3    male  22.0      1      0   7.2500        S  Third   \n",
       "1         1       1  female  38.0      1      0  71.2833        C  First   \n",
       "2         1       3  female  26.0      0      0   7.9250        S  Third   \n",
       "3         1       1  female  35.0      1      0  53.1000        S  First   \n",
       "4         0       3    male  35.0      0      0   8.0500        S  Third   \n",
       "\n",
       "     who  adult_male deck  embark_town alive  alone   predito  \n",
       "0    man        True  NaN  Southampton    no  False  0.188908  \n",
       "1  woman       False    C    Cherbourg   yes  False  0.742038  \n",
       "2  woman       False  NaN  Southampton   yes   True  0.742038  \n",
       "3  woman       False    C  Southampton   yes  False  0.742038  \n",
       "4    man        True  NaN  Southampton    no   True  0.188908  "
      ]
     },
     "execution_count": 34,
     "metadata": {},
     "output_type": "execute_result"
    }
   ],
   "source": [
    "titanic.head()"
   ]
  },
  {
   "cell_type": "code",
   "execution_count": 35,
   "metadata": {
    "tags": []
   },
   "outputs": [
    {
     "name": "stdout",
     "output_type": "stream",
     "text": [
      "Optimization terminated successfully.\n",
      "         Current function value: 0.463592\n",
      "         Iterations 6\n"
     ]
    },
    {
     "data": {
      "text/html": [
       "<table class=\"simpletable\">\n",
       "<caption>Logit Regression Results</caption>\n",
       "<tr>\n",
       "  <th>Dep. Variable:</th>       <td>survived</td>     <th>  No. Observations:  </th>  <td>   891</td>  \n",
       "</tr>\n",
       "<tr>\n",
       "  <th>Model:</th>                 <td>Logit</td>      <th>  Df Residuals:      </th>  <td>   886</td>  \n",
       "</tr>\n",
       "<tr>\n",
       "  <th>Method:</th>                 <td>MLE</td>       <th>  Df Model:          </th>  <td>     4</td>  \n",
       "</tr>\n",
       "<tr>\n",
       "  <th>Date:</th>            <td>Sat, 06 Jul 2024</td> <th>  Pseudo R-squ.:     </th>  <td>0.3038</td>  \n",
       "</tr>\n",
       "<tr>\n",
       "  <th>Time:</th>                <td>19:27:15</td>     <th>  Log-Likelihood:    </th> <td> -413.06</td> \n",
       "</tr>\n",
       "<tr>\n",
       "  <th>converged:</th>             <td>True</td>       <th>  LL-Null:           </th> <td> -593.33</td> \n",
       "</tr>\n",
       "<tr>\n",
       "  <th>Covariance Type:</th>     <td>nonrobust</td>    <th>  LLR p-value:       </th> <td>9.314e-77</td>\n",
       "</tr>\n",
       "</table>\n",
       "<table class=\"simpletable\">\n",
       "<tr>\n",
       "         <td></td>           <th>coef</th>     <th>std err</th>      <th>z</th>      <th>P>|z|</th>  <th>[0.025</th>    <th>0.975]</th>  \n",
       "</tr>\n",
       "<tr>\n",
       "  <th>Intercept</th>      <td>    2.1476</td> <td>    0.278</td> <td>    7.716</td> <td> 0.000</td> <td>    1.602</td> <td>    2.693</td>\n",
       "</tr>\n",
       "<tr>\n",
       "  <th>sex[T.male]</th>    <td>   -2.6246</td> <td>    0.185</td> <td>  -14.170</td> <td> 0.000</td> <td>   -2.988</td> <td>   -2.262</td>\n",
       "</tr>\n",
       "<tr>\n",
       "  <th>C(pclass)[T.2]</th> <td>   -0.7366</td> <td>    0.271</td> <td>   -2.717</td> <td> 0.007</td> <td>   -1.268</td> <td>   -0.205</td>\n",
       "</tr>\n",
       "<tr>\n",
       "  <th>C(pclass)[T.3]</th> <td>   -1.7903</td> <td>    0.252</td> <td>   -7.111</td> <td> 0.000</td> <td>   -2.284</td> <td>   -1.297</td>\n",
       "</tr>\n",
       "<tr>\n",
       "  <th>fare</th>           <td>    0.0018</td> <td>    0.002</td> <td>    0.864</td> <td> 0.388</td> <td>   -0.002</td> <td>    0.006</td>\n",
       "</tr>\n",
       "</table>"
      ],
      "text/latex": [
       "\\begin{center}\n",
       "\\begin{tabular}{lclc}\n",
       "\\toprule\n",
       "\\textbf{Dep. Variable:}   &     survived     & \\textbf{  No. Observations:  } &      891    \\\\\n",
       "\\textbf{Model:}           &      Logit       & \\textbf{  Df Residuals:      } &      886    \\\\\n",
       "\\textbf{Method:}          &       MLE        & \\textbf{  Df Model:          } &        4    \\\\\n",
       "\\textbf{Date:}            & Sat, 06 Jul 2024 & \\textbf{  Pseudo R-squ.:     } &   0.3038    \\\\\n",
       "\\textbf{Time:}            &     19:27:15     & \\textbf{  Log-Likelihood:    } &   -413.06   \\\\\n",
       "\\textbf{converged:}       &       True       & \\textbf{  LL-Null:           } &   -593.33   \\\\\n",
       "\\textbf{Covariance Type:} &    nonrobust     & \\textbf{  LLR p-value:       } & 9.314e-77   \\\\\n",
       "\\bottomrule\n",
       "\\end{tabular}\n",
       "\\begin{tabular}{lcccccc}\n",
       "                        & \\textbf{coef} & \\textbf{std err} & \\textbf{z} & \\textbf{P$> |$z$|$} & \\textbf{[0.025} & \\textbf{0.975]}  \\\\\n",
       "\\midrule\n",
       "\\textbf{Intercept}      &       2.1476  &        0.278     &     7.716  &         0.000        &        1.602    &        2.693     \\\\\n",
       "\\textbf{sex[T.male]}    &      -2.6246  &        0.185     &   -14.170  &         0.000        &       -2.988    &       -2.262     \\\\\n",
       "\\textbf{C(pclass)[T.2]} &      -0.7366  &        0.271     &    -2.717  &         0.007        &       -1.268    &       -0.205     \\\\\n",
       "\\textbf{C(pclass)[T.3]} &      -1.7903  &        0.252     &    -7.111  &         0.000        &       -2.284    &       -1.297     \\\\\n",
       "\\textbf{fare}           &       0.0018  &        0.002     &     0.864  &         0.388        &       -0.002    &        0.006     \\\\\n",
       "\\bottomrule\n",
       "\\end{tabular}\n",
       "%\\caption{Logit Regression Results}\n",
       "\\end{center}"
      ],
      "text/plain": [
       "<class 'statsmodels.iolib.summary.Summary'>\n",
       "\"\"\"\n",
       "                           Logit Regression Results                           \n",
       "==============================================================================\n",
       "Dep. Variable:               survived   No. Observations:                  891\n",
       "Model:                          Logit   Df Residuals:                      886\n",
       "Method:                           MLE   Df Model:                            4\n",
       "Date:                Sat, 06 Jul 2024   Pseudo R-squ.:                  0.3038\n",
       "Time:                        19:27:15   Log-Likelihood:                -413.06\n",
       "converged:                       True   LL-Null:                       -593.33\n",
       "Covariance Type:            nonrobust   LLR p-value:                 9.314e-77\n",
       "==================================================================================\n",
       "                     coef    std err          z      P>|z|      [0.025      0.975]\n",
       "----------------------------------------------------------------------------------\n",
       "Intercept          2.1476      0.278      7.716      0.000       1.602       2.693\n",
       "sex[T.male]       -2.6246      0.185    -14.170      0.000      -2.988      -2.262\n",
       "C(pclass)[T.2]    -0.7366      0.271     -2.717      0.007      -1.268      -0.205\n",
       "C(pclass)[T.3]    -1.7903      0.252     -7.111      0.000      -2.284      -1.297\n",
       "fare               0.0018      0.002      0.864      0.388      -0.002       0.006\n",
       "==================================================================================\n",
       "\"\"\""
      ]
     },
     "execution_count": 35,
     "metadata": {},
     "output_type": "execute_result"
    }
   ],
   "source": [
    "reglog = smf.logit(\" survived ~ sex + C(pclass) + fare\"\n",
    "                   , data=titanic).fit()\n",
    "\n",
    "reglog.summary()"
   ]
  },
  {
   "cell_type": "code",
   "execution_count": 36,
   "metadata": {},
   "outputs": [
    {
     "data": {
      "text/plain": [
       "0.48287377253122976"
      ]
     },
     "execution_count": 36,
     "metadata": {},
     "output_type": "execute_result"
    }
   ],
   "source": [
    "np.exp(-65*.0112)"
   ]
  },
  {
   "cell_type": "code",
   "execution_count": 37,
   "metadata": {},
   "outputs": [
    {
     "data": {
      "text/plain": [
       "0.09532359065697854"
      ]
     },
     "execution_count": 37,
     "metadata": {},
     "output_type": "execute_result"
    }
   ],
   "source": [
    "eta = 2.2971 + (-2.6419) + (-1.9055)\n",
    "chance = np.exp(eta)\n",
    "prob = 1/(1+np.exp(-eta))\n",
    "prob"
   ]
  },
  {
   "cell_type": "code",
   "execution_count": 38,
   "metadata": {},
   "outputs": [
    {
     "data": {
      "text/plain": [
       "14.03985400444786"
      ]
     },
     "execution_count": 38,
     "metadata": {},
     "output_type": "execute_result"
    }
   ],
   "source": [
    "1/np.exp(-2.6419)"
   ]
  },
  {
   "cell_type": "code",
   "execution_count": 39,
   "metadata": {},
   "outputs": [
    {
     "data": {
      "text/plain": [
       "0.14874824990055957"
      ]
     },
     "execution_count": 39,
     "metadata": {},
     "output_type": "execute_result"
    }
   ],
   "source": [
    "np.exp(-1.9055)"
   ]
  },
  {
   "cell_type": "markdown",
   "metadata": {
    "tags": []
   },
   "source": [
    "### 2.5 Qualidade do modelo <a name=\"2.5\"></a>\n",
    "[Índice](#topo)  \n",
    "\n",
    "Eixos de qualidade de um modelo:\n",
    "\n",
    "- Calibragem: O quanto uma estimativa de probabilidade de evento esta próxima da realidade.\n",
    "- Discriminação: O quanto o modelo consegue discriminar \"eventos\" de \"não eventos\" com probabilidades bem distintas.\n",
    "- Estabilidade: A qualidade do modelo de ter pouca variabilidade temporal.\n",
    "- Operacional: O quanto de pode confiar operacionalmente no modelo (consistência dos dados, infra-estrutura confiável, etc)."
   ]
  },
  {
   "cell_type": "code",
   "execution_count": 41,
   "metadata": {
    "tags": []
   },
   "outputs": [
    {
     "data": {
      "text/html": [
       "<div>\n",
       "<style scoped>\n",
       "    .dataframe tbody tr th:only-of-type {\n",
       "        vertical-align: middle;\n",
       "    }\n",
       "\n",
       "    .dataframe tbody tr th {\n",
       "        vertical-align: top;\n",
       "    }\n",
       "\n",
       "    .dataframe thead th {\n",
       "        text-align: right;\n",
       "    }\n",
       "</style>\n",
       "<table border=\"1\" class=\"dataframe\">\n",
       "  <thead>\n",
       "    <tr style=\"text-align: right;\">\n",
       "      <th></th>\n",
       "      <th>survived</th>\n",
       "      <th>pclass</th>\n",
       "      <th>sex</th>\n",
       "      <th>age</th>\n",
       "      <th>sibsp</th>\n",
       "      <th>parch</th>\n",
       "      <th>fare</th>\n",
       "      <th>embarked</th>\n",
       "      <th>class</th>\n",
       "      <th>who</th>\n",
       "      <th>adult_male</th>\n",
       "      <th>deck</th>\n",
       "      <th>embark_town</th>\n",
       "      <th>alive</th>\n",
       "      <th>alone</th>\n",
       "      <th>predito</th>\n",
       "    </tr>\n",
       "  </thead>\n",
       "  <tbody>\n",
       "    <tr>\n",
       "      <th>0</th>\n",
       "      <td>0</td>\n",
       "      <td>3</td>\n",
       "      <td>male</td>\n",
       "      <td>22.0</td>\n",
       "      <td>1</td>\n",
       "      <td>0</td>\n",
       "      <td>7.2500</td>\n",
       "      <td>S</td>\n",
       "      <td>Third</td>\n",
       "      <td>man</td>\n",
       "      <td>True</td>\n",
       "      <td>NaN</td>\n",
       "      <td>Southampton</td>\n",
       "      <td>no</td>\n",
       "      <td>False</td>\n",
       "      <td>0.094982</td>\n",
       "    </tr>\n",
       "    <tr>\n",
       "      <th>1</th>\n",
       "      <td>1</td>\n",
       "      <td>1</td>\n",
       "      <td>female</td>\n",
       "      <td>38.0</td>\n",
       "      <td>1</td>\n",
       "      <td>0</td>\n",
       "      <td>71.2833</td>\n",
       "      <td>C</td>\n",
       "      <td>First</td>\n",
       "      <td>woman</td>\n",
       "      <td>False</td>\n",
       "      <td>C</td>\n",
       "      <td>Cherbourg</td>\n",
       "      <td>yes</td>\n",
       "      <td>False</td>\n",
       "      <td>0.906951</td>\n",
       "    </tr>\n",
       "    <tr>\n",
       "      <th>2</th>\n",
       "      <td>1</td>\n",
       "      <td>3</td>\n",
       "      <td>female</td>\n",
       "      <td>26.0</td>\n",
       "      <td>0</td>\n",
       "      <td>0</td>\n",
       "      <td>7.9250</td>\n",
       "      <td>S</td>\n",
       "      <td>Third</td>\n",
       "      <td>woman</td>\n",
       "      <td>False</td>\n",
       "      <td>NaN</td>\n",
       "      <td>Southampton</td>\n",
       "      <td>yes</td>\n",
       "      <td>True</td>\n",
       "      <td>0.591848</td>\n",
       "    </tr>\n",
       "    <tr>\n",
       "      <th>3</th>\n",
       "      <td>1</td>\n",
       "      <td>1</td>\n",
       "      <td>female</td>\n",
       "      <td>35.0</td>\n",
       "      <td>1</td>\n",
       "      <td>0</td>\n",
       "      <td>53.1000</td>\n",
       "      <td>S</td>\n",
       "      <td>First</td>\n",
       "      <td>woman</td>\n",
       "      <td>False</td>\n",
       "      <td>C</td>\n",
       "      <td>Southampton</td>\n",
       "      <td>yes</td>\n",
       "      <td>False</td>\n",
       "      <td>0.904127</td>\n",
       "    </tr>\n",
       "    <tr>\n",
       "      <th>4</th>\n",
       "      <td>0</td>\n",
       "      <td>3</td>\n",
       "      <td>male</td>\n",
       "      <td>35.0</td>\n",
       "      <td>0</td>\n",
       "      <td>0</td>\n",
       "      <td>8.0500</td>\n",
       "      <td>S</td>\n",
       "      <td>Third</td>\n",
       "      <td>man</td>\n",
       "      <td>True</td>\n",
       "      <td>NaN</td>\n",
       "      <td>Southampton</td>\n",
       "      <td>no</td>\n",
       "      <td>True</td>\n",
       "      <td>0.095107</td>\n",
       "    </tr>\n",
       "  </tbody>\n",
       "</table>\n",
       "</div>"
      ],
      "text/plain": [
       "   survived  pclass     sex   age  sibsp  parch     fare embarked  class  \\\n",
       "0         0       3    male  22.0      1      0   7.2500        S  Third   \n",
       "1         1       1  female  38.0      1      0  71.2833        C  First   \n",
       "2         1       3  female  26.0      0      0   7.9250        S  Third   \n",
       "3         1       1  female  35.0      1      0  53.1000        S  First   \n",
       "4         0       3    male  35.0      0      0   8.0500        S  Third   \n",
       "\n",
       "     who  adult_male deck  embark_town alive  alone   predito  \n",
       "0    man        True  NaN  Southampton    no  False  0.094982  \n",
       "1  woman       False    C    Cherbourg   yes  False  0.906951  \n",
       "2  woman       False  NaN  Southampton   yes   True  0.591848  \n",
       "3  woman       False    C  Southampton   yes  False  0.904127  \n",
       "4    man        True  NaN  Southampton    no   True  0.095107  "
      ]
     },
     "execution_count": 41,
     "metadata": {},
     "output_type": "execute_result"
    }
   ],
   "source": [
    "titanic['predito'] = reglog.predict(titanic)\n",
    "titanic.head()"
   ]
  },
  {
   "cell_type": "markdown",
   "metadata": {},
   "source": [
    "#### Calibragem"
   ]
  },
  {
   "cell_type": "code",
   "execution_count": 43,
   "metadata": {},
   "outputs": [
    {
     "data": {
      "text/plain": [
       "predito\n",
       "(0.0929, 0.0951]    181\n",
       "(0.0951, 0.232]     188\n",
       "(0.232, 0.408]      166\n",
       "(0.408, 0.603]      178\n",
       "(0.603, 0.956]      178\n",
       "Name: count, dtype: int64"
      ]
     },
     "execution_count": 43,
     "metadata": {},
     "output_type": "execute_result"
    }
   ],
   "source": [
    "cat_pred = pd.qcut(titanic['predito'], 5, duplicates='drop')\n",
    "cat_pred.value_counts().sort_index()"
   ]
  },
  {
   "cell_type": "code",
   "execution_count": 44,
   "metadata": {},
   "outputs": [
    {
     "name": "stderr",
     "output_type": "stream",
     "text": [
      "C:\\Users\\Hanga\\AppData\\Local\\Temp\\ipykernel_29256\\4111493133.py:1: FutureWarning: The default of observed=False is deprecated and will be changed to True in a future version of pandas. Pass observed=False to retain current behavior or observed=True to adopt the future default and silence this warning.\n",
      "  group_reg = titanic.groupby(cat_pred)\n"
     ]
    },
    {
     "data": {
      "text/html": [
       "<div>\n",
       "<style scoped>\n",
       "    .dataframe tbody tr th:only-of-type {\n",
       "        vertical-align: middle;\n",
       "    }\n",
       "\n",
       "    .dataframe tbody tr th {\n",
       "        vertical-align: top;\n",
       "    }\n",
       "\n",
       "    .dataframe thead th {\n",
       "        text-align: right;\n",
       "    }\n",
       "</style>\n",
       "<table border=\"1\" class=\"dataframe\">\n",
       "  <thead>\n",
       "    <tr style=\"text-align: right;\">\n",
       "      <th></th>\n",
       "      <th>contagem</th>\n",
       "    </tr>\n",
       "    <tr>\n",
       "      <th>predito</th>\n",
       "      <th></th>\n",
       "    </tr>\n",
       "  </thead>\n",
       "  <tbody>\n",
       "    <tr>\n",
       "      <th>(0.0929, 0.0951]</th>\n",
       "      <td>181</td>\n",
       "    </tr>\n",
       "    <tr>\n",
       "      <th>(0.0951, 0.232]</th>\n",
       "      <td>188</td>\n",
       "    </tr>\n",
       "    <tr>\n",
       "      <th>(0.232, 0.408]</th>\n",
       "      <td>166</td>\n",
       "    </tr>\n",
       "    <tr>\n",
       "      <th>(0.408, 0.603]</th>\n",
       "      <td>178</td>\n",
       "    </tr>\n",
       "    <tr>\n",
       "      <th>(0.603, 0.956]</th>\n",
       "      <td>178</td>\n",
       "    </tr>\n",
       "  </tbody>\n",
       "</table>\n",
       "</div>"
      ],
      "text/plain": [
       "                  contagem\n",
       "predito                   \n",
       "(0.0929, 0.0951]       181\n",
       "(0.0951, 0.232]        188\n",
       "(0.232, 0.408]         166\n",
       "(0.408, 0.603]         178\n",
       "(0.603, 0.956]         178"
      ]
     },
     "execution_count": 44,
     "metadata": {},
     "output_type": "execute_result"
    }
   ],
   "source": [
    "group_reg = titanic.groupby(cat_pred)\n",
    "qualid = group_reg[['survived']].count().rename(columns = {'survived': 'contagem'})\n",
    "qualid"
   ]
  },
  {
   "cell_type": "code",
   "execution_count": 45,
   "metadata": {},
   "outputs": [
    {
     "data": {
      "text/html": [
       "<div>\n",
       "<style scoped>\n",
       "    .dataframe tbody tr th:only-of-type {\n",
       "        vertical-align: middle;\n",
       "    }\n",
       "\n",
       "    .dataframe tbody tr th {\n",
       "        vertical-align: top;\n",
       "    }\n",
       "\n",
       "    .dataframe thead th {\n",
       "        text-align: right;\n",
       "    }\n",
       "</style>\n",
       "<table border=\"1\" class=\"dataframe\">\n",
       "  <thead>\n",
       "    <tr style=\"text-align: right;\">\n",
       "      <th></th>\n",
       "      <th>contagem</th>\n",
       "      <th>predito</th>\n",
       "    </tr>\n",
       "    <tr>\n",
       "      <th>predito</th>\n",
       "      <th></th>\n",
       "      <th></th>\n",
       "    </tr>\n",
       "  </thead>\n",
       "  <tbody>\n",
       "    <tr>\n",
       "      <th>(0.0929, 0.0951]</th>\n",
       "      <td>181</td>\n",
       "      <td>0.095004</td>\n",
       "    </tr>\n",
       "    <tr>\n",
       "      <th>(0.0951, 0.232]</th>\n",
       "      <td>188</td>\n",
       "      <td>0.112533</td>\n",
       "    </tr>\n",
       "    <tr>\n",
       "      <th>(0.232, 0.408]</th>\n",
       "      <td>166</td>\n",
       "      <td>0.313900</td>\n",
       "    </tr>\n",
       "    <tr>\n",
       "      <th>(0.408, 0.603]</th>\n",
       "      <td>178</td>\n",
       "      <td>0.558316</td>\n",
       "    </tr>\n",
       "    <tr>\n",
       "      <th>(0.603, 0.956]</th>\n",
       "      <td>178</td>\n",
       "      <td>0.854834</td>\n",
       "    </tr>\n",
       "  </tbody>\n",
       "</table>\n",
       "</div>"
      ],
      "text/plain": [
       "                  contagem   predito\n",
       "predito                             \n",
       "(0.0929, 0.0951]       181  0.095004\n",
       "(0.0951, 0.232]        188  0.112533\n",
       "(0.232, 0.408]         166  0.313900\n",
       "(0.408, 0.603]         178  0.558316\n",
       "(0.603, 0.956]         178  0.854834"
      ]
     },
     "execution_count": 45,
     "metadata": {},
     "output_type": "execute_result"
    }
   ],
   "source": [
    "qualid['predito'] = group_reg['predito'].mean()\n",
    "qualid"
   ]
  },
  {
   "cell_type": "code",
   "execution_count": 46,
   "metadata": {},
   "outputs": [
    {
     "data": {
      "text/html": [
       "<div>\n",
       "<style scoped>\n",
       "    .dataframe tbody tr th:only-of-type {\n",
       "        vertical-align: middle;\n",
       "    }\n",
       "\n",
       "    .dataframe tbody tr th {\n",
       "        vertical-align: top;\n",
       "    }\n",
       "\n",
       "    .dataframe thead th {\n",
       "        text-align: right;\n",
       "    }\n",
       "</style>\n",
       "<table border=\"1\" class=\"dataframe\">\n",
       "  <thead>\n",
       "    <tr style=\"text-align: right;\">\n",
       "      <th></th>\n",
       "      <th>contagem</th>\n",
       "      <th>predito</th>\n",
       "      <th>pct_sobrev</th>\n",
       "    </tr>\n",
       "    <tr>\n",
       "      <th>predito</th>\n",
       "      <th></th>\n",
       "      <th></th>\n",
       "      <th></th>\n",
       "    </tr>\n",
       "  </thead>\n",
       "  <tbody>\n",
       "    <tr>\n",
       "      <th>(0.0929, 0.0951]</th>\n",
       "      <td>181</td>\n",
       "      <td>0.095004</td>\n",
       "      <td>0.104972</td>\n",
       "    </tr>\n",
       "    <tr>\n",
       "      <th>(0.0951, 0.232]</th>\n",
       "      <td>188</td>\n",
       "      <td>0.112533</td>\n",
       "      <td>0.159574</td>\n",
       "    </tr>\n",
       "    <tr>\n",
       "      <th>(0.232, 0.408]</th>\n",
       "      <td>166</td>\n",
       "      <td>0.313900</td>\n",
       "      <td>0.265060</td>\n",
       "    </tr>\n",
       "    <tr>\n",
       "      <th>(0.408, 0.603]</th>\n",
       "      <td>178</td>\n",
       "      <td>0.558316</td>\n",
       "      <td>0.483146</td>\n",
       "    </tr>\n",
       "    <tr>\n",
       "      <th>(0.603, 0.956]</th>\n",
       "      <td>178</td>\n",
       "      <td>0.854834</td>\n",
       "      <td>0.915730</td>\n",
       "    </tr>\n",
       "  </tbody>\n",
       "</table>\n",
       "</div>"
      ],
      "text/plain": [
       "                  contagem   predito  pct_sobrev\n",
       "predito                                         \n",
       "(0.0929, 0.0951]       181  0.095004    0.104972\n",
       "(0.0951, 0.232]        188  0.112533    0.159574\n",
       "(0.232, 0.408]         166  0.313900    0.265060\n",
       "(0.408, 0.603]         178  0.558316    0.483146\n",
       "(0.603, 0.956]         178  0.854834    0.915730"
      ]
     },
     "execution_count": 46,
     "metadata": {},
     "output_type": "execute_result"
    }
   ],
   "source": [
    "qualid['pct_sobrev'] = group_reg['survived'].mean()\n",
    "qualid"
   ]
  },
  {
   "cell_type": "code",
   "execution_count": 47,
   "metadata": {},
   "outputs": [
    {
     "data": {
      "text/plain": [
       "Text(0.5, 0, 'Grupo')"
      ]
     },
     "execution_count": 47,
     "metadata": {},
     "output_type": "execute_result"
    }
   ],
   "source": [
    "fig = plt.figure()\n",
    "ax = fig.add_subplot(1, 1, 1)\n",
    "\n",
    "ax = qualid['pct_sobrev'].plot(label='%Predito')\n",
    "ax = qualid['predito'].plot(label='%Observado')\n",
    "\n",
    "ticks = ax.set_xticks([0, 1, 2, 3, 4])\n",
    "labels = ax.set_xticklabels([1, 2, 3, 4, 5])\n",
    "ax.legend(loc=\"lower right\")\n",
    "ax.set_ylabel('Probabilidade de evento')\n",
    "ax.set_xlabel('Grupo')\n"
   ]
  },
  {
   "cell_type": "markdown",
   "metadata": {},
   "source": [
    "#### Discriminação"
   ]
  },
  {
   "cell_type": "markdown",
   "metadata": {},
   "source": [
    "Curva ROC"
   ]
  },
  {
   "cell_type": "code",
   "execution_count": 50,
   "metadata": {},
   "outputs": [
    {
     "data": {
      "image/png": "[encoded data removed]",
      "text/plain": [
       "<Figure size 640x480 with 1 Axes>"
      ]
     },
     "metadata": {},
     "output_type": "display_data"
    },
    {
     "data": {
      "image/png": "[encoded data removed]",
      "text/plain": [
       "<Figure size 640x480 with 1 Axes>"
      ]
     },
     "metadata": {},
     "output_type": "display_data"
    },
    {
     "data": {
      "image/png": "[encoded data removed]",
      "text/plain": [
       "<Figure size 640x480 with 1 Axes>"
      ]
     },
     "metadata": {},
     "output_type": "display_data"
    }
   ],
   "source": [
    "from sklearn.metrics import roc_curve\n",
    "from sklearn import metrics\n",
    "\n",
    "fpr, tpr, thresholds = metrics.roc_curve(titanic['survived'], titanic['predito'])\n",
    "\n",
    "plt.figure()\n",
    "lw = 2\n",
    "\n",
    "fpr, tpr, thresholds = metrics.roc_curve(titanic['survived'], titanic['predito'])\n",
    "auc_ = metrics.auc(fpr, tpr)\n",
    "plt.plot(fpr, tpr, color='darkorange',\n",
    "         lw=lw, label='ROC curve (area = %0.2f)' % auc_)\n",
    "plt.plot([0, 1], [0, 1], color='navy', lw=lw, linestyle='--')\n",
    "plt.xlim([0.0, 1.0])\n",
    "plt.ylim([0.0, 1.05])\n",
    "plt.xlabel('False Positive Rate')\n",
    "plt.ylabel('True Positive Rate')\n",
    "plt.title('Receiver operating characteristic example')\n",
    "plt.legend(loc=\"lower right\")\n",
    "plt.show()\n",
    "\n"
   ]
  },
  {
   "cell_type": "markdown",
   "metadata": {},
   "source": [
    "Gráfico do KS"
   ]
  },
  {
   "cell_type": "code",
   "execution_count": 52,
   "metadata": {},
   "outputs": [
    {
     "data": {
      "text/plain": [
       "Text(0, 0.5, 'Função Distribuição Acumulada')"
      ]
     },
     "execution_count": 52,
     "metadata": {},
     "output_type": "execute_result"
    }
   ],
   "source": [
    "fig = plt.figure()\n",
    "ax = fig.add_subplot(1, 1, 1)\n",
    "\n",
    "score_pop1 = titanic.loc[titanic['survived']==1,'predito']\n",
    "ax.plot(np.sort(score_pop1), np.linspace(0, 1, len(score_pop1), endpoint=False), label='Sobreviventes')\n",
    "\n",
    "score_pop2 = titanic.loc[titanic['survived']!=1,'predito']\n",
    "ax.plot(np.sort(score_pop2), np.linspace(0, 1, len(score_pop2), endpoint=False), label='Não sobreviventes')\n",
    "ax.legend()\n",
    "\n",
    "ax.set_xlabel('P')\n",
    "ax.set_ylabel('Função Distribuição Acumulada')\n"
   ]
  },
  {
   "cell_type": "markdown",
   "metadata": {},
   "source": [
    "#### Indicadores"
   ]
  },
  {
   "cell_type": "code",
   "execution_count": 54,
   "metadata": {},
   "outputs": [
    {
     "name": "stdout",
     "output_type": "stream",
     "text": [
      "Acurácia: 78.68%\n",
      "KS: 54.33% \n",
      "AUC: 83.77% \n",
      "GINI: 67.55%\n"
     ]
    }
   ],
   "source": [
    "from sklearn import metrics\n",
    "from scipy.stats import ks_2samp\n",
    "\n",
    "acc = metrics.accuracy_score(titanic['survived'], titanic['predito']>.5)\n",
    "print('Acurácia: {0:.2f}%'.format(acc*100))\n",
    "\n",
    "#AUC\n",
    "fpr, tpr, thresholds = metrics.roc_curve(titanic['survived'], titanic['predito'])\n",
    "auc_ = metrics.auc(fpr, tpr)\n",
    "#Gini\n",
    "gini = 2*auc_ -1\n",
    "#KS\n",
    "ks = ks_2samp(titanic.loc[titanic['survived'] == 1, 'predito'], titanic.loc[titanic['survived'] != 1, 'predito']).statistic\n",
    "\n",
    "print('KS: {0:.2f}% \\nAUC: {1:.2f}% \\nGINI: {2:.2f}%'\n",
    "      .format(ks*100, auc_*100, gini*100))"
   ]
  }
 ],
 "metadata": {
  "kernelspec": {
   "display_name": "Python 3 (ipykernel)",
   "language": "python",
   "name": "python3"
  },
  "language_info": {
   "codemirror_mode": {
    "name": "ipython",
    "version": 3
   },
   "file_extension": ".py",
   "mimetype": "text/x-python",
   "name": "python",
   "nbconvert_exporter": "python",
   "pygments_lexer": "ipython3",
   "version": "3.11.7"
  },
  "toc-showmarkdowntxt": true
 },
 "nbformat": 4,
 "nbformat_minor": 4
}
